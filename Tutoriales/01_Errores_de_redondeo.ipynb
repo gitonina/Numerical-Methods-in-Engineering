{
 "cells": [
  {
   "cell_type": "markdown",
   "metadata": {},
   "source": [
    "# Clase 01 - Introducción"
   ]
  },
  {
   "cell_type": "markdown",
   "metadata": {},
   "source": [
    "### Instrucciones para instalar Anaconda"
   ]
  },
  {
   "cell_type": "markdown",
   "metadata": {},
   "source": [
    "1. Bajar e instalar la versión adecuada de Anaconda para su computador desde https://www.anaconda.com/download. Elegir las opciones por defecto durante la instalación de Anaconda.\n",
    "2. Verifique la versión instalada usando\n",
    "> python --version\n",
    "3. Actualice Anaconda usando\n",
    "> conda update --all"
   ]
  },
  {
   "cell_type": "markdown",
   "metadata": {},
   "source": [
    "### Iniciar sesión de jupyter notebook o lab"
   ]
  },
  {
   "cell_type": "markdown",
   "metadata": {},
   "source": [
    "1. Para iniciar una sesión de jupyter notebook debe escribir\n",
    "> jupyter notebook\n",
    "2. Para iniciar una sesión de jupyter lab debe escribir\n",
    "> jupyter lab"
   ]
  },
  {
   "cell_type": "code",
   "execution_count": 1,
   "metadata": {},
   "outputs": [],
   "source": [
    "import numpy as np\n",
    "import matplotlib.pyplot as plt"
   ]
  },
  {
   "cell_type": "code",
   "execution_count": 2,
   "metadata": {},
   "outputs": [],
   "source": [
    "import sys\n",
    "import math"
   ]
  },
  {
   "cell_type": "code",
   "execution_count": 3,
   "metadata": {},
   "outputs": [
    {
     "data": {
      "text/plain": [
       "sys.float_info(max=1.7976931348623157e+308, max_exp=1024, max_10_exp=308, min=2.2250738585072014e-308, min_exp=-1021, min_10_exp=-307, dig=15, mant_dig=53, epsilon=2.220446049250313e-16, radix=2, rounds=1)"
      ]
     },
     "execution_count": 3,
     "metadata": {},
     "output_type": "execute_result"
    }
   ],
   "source": [
    "sys.float_info"
   ]
  },
  {
   "cell_type": "markdown",
   "metadata": {},
   "source": [
    "### 1. Precisión de la máquina"
   ]
  },
  {
   "cell_type": "code",
   "execution_count": 4,
   "metadata": {},
   "outputs": [
    {
     "name": "stdout",
     "output_type": "stream",
     "text": [
      "La precisión de la máquina es: 2.220446049250313e-16\n"
     ]
    }
   ],
   "source": [
    "def find_machine_epsilon():\n",
    "    epsilon = 1.0\n",
    "    while 1.0 + epsilon != 1.0:\n",
    "        epsilon /= 2.0\n",
    "    return epsilon * 2.0\n",
    "\n",
    "machine_epsilon = find_machine_epsilon()\n",
    "print(f\"La precisión de la máquina es: {machine_epsilon}\")"
   ]
  },
  {
   "cell_type": "code",
   "execution_count": 5,
   "metadata": {},
   "outputs": [
    {
     "name": "stdout",
     "output_type": "stream",
     "text": [
      "La precisión de la máquina para precisión simple es: 1.1920928955078125e-07\n"
     ]
    }
   ],
   "source": [
    "def find_machine_epsilon_single_precision():\n",
    "    epsilon = np.float32(1.0)\n",
    "    while np.float32(1.0) + epsilon != np.float32(1.0):\n",
    "        epsilon /= np.float32(2.0)\n",
    "    return epsilon * np.float32(2.0)\n",
    "\n",
    "machine_epsilon_single = find_machine_epsilon_single_precision()\n",
    "print(f\"La precisión de la máquina para precisión simple es: {machine_epsilon_single}\")"
   ]
  },
  {
   "cell_type": "code",
   "execution_count": 6,
   "metadata": {},
   "outputs": [
    {
     "data": {
      "text/plain": [
       "'0.99999999999999988897769753748435'"
      ]
     },
     "execution_count": 6,
     "metadata": {},
     "output_type": "execute_result"
    }
   ],
   "source": [
    "format(math.nextafter(1., 0.), \".32f\")"
   ]
  },
  {
   "cell_type": "code",
   "execution_count": 7,
   "metadata": {},
   "outputs": [
    {
     "data": {
      "text/plain": [
       "'0.000000000000000000000000000000000000000000000000000000000000000000000000000000000000000000000000000000000000000000000000000000000000000000000000000000000000000000000000000000000000000000000000000000000000000000000000000000000000000000000000000000000000000000000000000000000000000000000000000000000000000000000000000000000005'"
      ]
     },
     "execution_count": 7,
     "metadata": {},
     "output_type": "execute_result"
    }
   ],
   "source": [
    "format(math.nextafter(0., 1.), \".324f\")"
   ]
  },
  {
   "cell_type": "markdown",
   "metadata": {},
   "source": [
    "### 2. Serie de Fibonacci"
   ]
  },
  {
   "cell_type": "markdown",
   "metadata": {},
   "source": [
    "Se define la serie de Fibonacci por\n",
    "$$ F_0 = 1, \\hspace{1cm} F_1=1 $$\n",
    "\n",
    "$$ F_n = F_{n-1}+F_{n-2} \\; \\textrm{con}\\; n \\ge 2$$\n",
    "\n",
    "La razón entre dos números consecutivos de la serie de Fibonacci tiende a la razón áurea\n",
    "$$\\lim_{n\\rightarrow\\infty} \\frac{F_n}{F_{n-1}} = \\varphi = \\frac{1+\\sqrt{5}}{2}= 1.6180339887\\ldots$$"
   ]
  },
  {
   "cell_type": "code",
   "execution_count": 8,
   "metadata": {},
   "outputs": [],
   "source": [
    "def fib(n):\n",
    "    f = np.zeros(n,dtype=np.int32)\n",
    "    g = np.zeros(n-1)\n",
    "    f[0] = 1\n",
    "    f[1] = 1\n",
    "    g[0] = f[1]/f[0]\n",
    "    for i in range(2,n):\n",
    "        f[i] = f[i-1]+f[i-2]\n",
    "        g[i-1] = f[i]/f[i-1]\n",
    "    return f,g"
   ]
  },
  {
   "cell_type": "code",
   "execution_count": 9,
   "metadata": {},
   "outputs": [
    {
     "data": {
      "image/png": "[encoded data removed]",
      "text/plain": [
       "<Figure size 640x480 with 1 Axes>"
      ]
     },
     "metadata": {},
     "output_type": "display_data"
    }
   ],
   "source": [
    "N = [2,46] # N = 47 genera un overflow. Por qué?\n",
    "for n in N:\n",
    "    f,g = fib(n)\n",
    "    plt.plot(np.linspace(1,n-1,n-1),g)\n",
    "    plt.xlabel('$n$')\n",
    "    plt.ylabel('$F_n/F_{n-1}$') # Razón tiende a la razón aurea (1+sqrt(5))/2 = 1.61803..."
   ]
  },
  {
   "cell_type": "code",
   "execution_count": 10,
   "metadata": {},
   "outputs": [
    {
     "name": "stdout",
     "output_type": "stream",
     "text": [
      "1\n",
      "1\n",
      "2\n",
      "3\n",
      "5\n",
      "8\n",
      "13\n",
      "21\n",
      "34\n",
      "55\n",
      "89\n",
      "144\n",
      "233\n",
      "377\n",
      "610\n",
      "987\n",
      "1597\n",
      "2584\n",
      "4181\n",
      "6765\n",
      "10946\n",
      "17711\n",
      "28657\n",
      "46368\n",
      "75025\n",
      "121393\n",
      "196418\n",
      "317811\n",
      "514229\n",
      "832040\n",
      "1346269\n",
      "2178309\n",
      "3524578\n",
      "5702887\n",
      "9227465\n",
      "14930352\n",
      "24157817\n",
      "39088169\n",
      "63245986\n",
      "102334155\n",
      "165580141\n",
      "267914296\n",
      "433494437\n",
      "701408733\n",
      "1134903170\n",
      "1836311903\n",
      "2971215073\n",
      "Overflow ocurre cuando n= 47\n"
     ]
    }
   ],
   "source": [
    "def fibonacci_overflow():\n",
    "    a, b = 0, 1\n",
    "    n = 0\n",
    "    while True:\n",
    "        a, b = b, a + b\n",
    "        print(a)\n",
    "        n = n + 1\n",
    "        # Simulate a fixed-width integer overflow (e.g., 32-bit signed integer)\n",
    "        if a > 2**31 - 1:\n",
    "            print(\"Overflow ocurre cuando n=\",n)\n",
    "            break\n",
    "\n",
    "fibonacci_overflow()"
   ]
  },
  {
   "cell_type": "code",
   "execution_count": null,
   "metadata": {},
   "outputs": [],
   "source": []
  }
 ],
 "metadata": {
  "kernelspec": {
   "display_name": "Python 3 (ipykernel)",
   "language": "python",
   "name": "python3"
  },
  "language_info": {
   "codemirror_mode": {
    "name": "ipython",
    "version": 3
   },
   "file_extension": ".py",
   "mimetype": "text/x-python",
   "name": "python",
   "nbconvert_exporter": "python",
   "pygments_lexer": "ipython3",
   "version": "3.11.5"
  }
 },
 "nbformat": 4,
 "nbformat_minor": 4
}
