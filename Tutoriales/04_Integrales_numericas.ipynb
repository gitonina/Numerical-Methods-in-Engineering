{
 "cells": [
  {
   "cell_type": "markdown",
   "metadata": {},
   "source": [
    "# Clase 03 - Integración numérica"
   ]
  },
  {
   "cell_type": "code",
   "execution_count": 1,
   "metadata": {},
   "outputs": [],
   "source": [
    "import numpy as np\n",
    "import matplotlib.pyplot as plt"
   ]
  },
  {
   "cell_type": "markdown",
   "metadata": {},
   "source": [
    "### Regla trapezoidal recursiva"
   ]
  },
  {
   "cell_type": "markdown",
   "metadata": {},
   "source": [
    "La integral en el intervalo $[a,b]$ puede ser aproximada por la regla trapezoidal $$ I = [f(a)+f(b)]\\frac{H}{2}$$ con $ H = b-a$.\n",
    "\n",
    "Si la aplicamos a $k > 1$ paneles se tiene $$\n",
    "I_{k}=\\frac{1}{2} I_{k-1}+\\frac{H}{2^{k-1}} \\sum_{i=1}^{2^{k-2}} f\\left[a+\\frac{(2 i-1) H}{2^{k-1}}\\right]\n",
    "$$\n",
    "\n",
    "Usémosla para calcular la integral $$ I = \\int_{0}^{\\pi} \\sqrt{x}\\cos x dx = −\n",
    "0.894831469484145$$"
   ]
  },
  {
   "cell_type": "code",
   "execution_count": 2,
   "metadata": {},
   "outputs": [],
   "source": [
    "def f(x): \n",
    "    return (np.sqrt(x)*np.cos(x))"
   ]
  },
  {
   "cell_type": "code",
   "execution_count": 30,
   "metadata": {},
   "outputs": [
    {
     "data": {
      "image/png": "[encoded data removed]",
      "text/plain": [
       "<Figure size 640x480 with 1 Axes>"
      ]
     },
     "metadata": {},
     "output_type": "display_data"
    }
   ],
   "source": [
    "x = np.linspace(0,np.pi,1000)\n",
    "plt.plot(x,f(x))\n",
    "plt.xlabel(r'$x$')\n",
    "plt.ylabel(r'$\\sqrt{x} \\; \\cos(x)$');"
   ]
  },
  {
   "cell_type": "code",
   "execution_count": 31,
   "metadata": {},
   "outputs": [],
   "source": [
    "def trapezoidal(f,a,b,Iold,k):\n",
    "    if k == 1:\n",
    "        Inew = (f(a) + f(b))*(b - a)/2.0\n",
    "    else:\n",
    "        n = 2**(k - 2)\n",
    "        h = (b - a)/n\n",
    "        x = a + h/2.0\n",
    "        suma = 0.0\n",
    "        for i in range(n):\n",
    "            suma = suma + f(x)\n",
    "            x = x + h\n",
    "        Inew = (Iold + h*suma)/2.0\n",
    "    return (Inew)"
   ]
  },
  {
   "cell_type": "code",
   "execution_count": 32,
   "metadata": {},
   "outputs": [
    {
     "name": "stdout",
     "output_type": "stream",
     "text": [
      "-2.7841639984158535 1\n",
      "-1.3920819992079265 2\n",
      "-1.056338333343367 3\n",
      "-0.9498046747146611 4\n",
      "-0.9138409458774788 5\n",
      "-0.9014541939325875 6\n",
      "-0.8971491275741271 7\n",
      "-0.8956449881556929 8\n",
      "-0.8951176226136253 9\n",
      "-0.8949322730499081 10\n",
      "-0.89486701725454 11\n",
      "-0.894844014604286 12\n",
      "-0.8948358991255596 13\n",
      "-0.8948330341669359 14\n",
      "-0.8948320223250747 15\n",
      "-0.8948316648532865 16\n",
      "-0.8948315385351135 17\n",
      "-0.8948314938900981 18\n",
      "-0.8948314781085482 19\n",
      "-0.8948314725291295 20\n",
      "Valor integral = -0.8948314725291295\n",
      "Error = 3.04498448677748e-09\n",
      "Número de paneles = 524288\n"
     ]
    }
   ],
   "source": [
    "Iold = 0.0\n",
    "eps = 1.0e-8\n",
    "N = 100\n",
    "for k in range(1,N):\n",
    "    Inew = trapezoidal(f,0.0,np.pi,Iold,k)\n",
    "    print (Inew,k)\n",
    "    if( k > 1 and np.abs(Inew - Iold) < eps): \n",
    "        break \n",
    "    Iold = Inew\n",
    "print(\"Valor integral =\",Inew)\n",
    "print(\"Error =\",np.abs(Inew+0.894831469484145))\n",
    "print(\"Número de paneles =\",2**(k-1))"
   ]
  },
  {
   "cell_type": "markdown",
   "metadata": {},
   "source": [
    "La convergencia de la integral puede ser mejorada usando el cambio de variable $t=\\sqrt{x}$ se tiene que la integral es $$ I = \\int_{0}^{\\sqrt{\\pi}}2t^2\\cos t^2 dt$$"
   ]
  },
  {
   "cell_type": "code",
   "execution_count": 33,
   "metadata": {},
   "outputs": [],
   "source": [
    "def f1(t):\n",
    "    return (2*t*t*np.cos(t*t))"
   ]
  },
  {
   "cell_type": "code",
   "execution_count": 34,
   "metadata": {},
   "outputs": [
    {
     "name": "stdout",
     "output_type": "stream",
     "text": [
      "-5.568327996831706 1\n",
      "-1.7998133768082019 2\n",
      "-1.0347694378475427 3\n",
      "-0.925213840456881 4\n",
      "-0.9021663615273681 5\n",
      "-0.8966493268558076 6\n",
      "-0.8952849488950175 7\n",
      "-0.8949447778827214 8\n",
      "-0.8948597927445398 9\n",
      "-0.8948385500593015 10\n",
      "-0.8948332396129471 11\n",
      "-0.8948319120154655 12\n",
      "-0.8948315801170068 13\n",
      "-0.8948314971424682 14\n",
      "-0.8948314763979713 15\n",
      "-0.8948314712124743 16\n",
      "Valor integral = -0.8948314712124743\n",
      "Error = 1.728329257488781e-09\n",
      "Número de paneles = 32768\n"
     ]
    }
   ],
   "source": [
    "Iold = 0.0\n",
    "for k in range(1,N):\n",
    "    Inew = trapezoidal(f1,0.0,np.sqrt(np.pi),Iold,k)\n",
    "    print (Inew,k)\n",
    "    if( k > 1 and np.abs(Inew - Iold) < eps): \n",
    "        break \n",
    "    Iold = Inew\n",
    "print(\"Valor integral =\",Inew)\n",
    "print(\"Error =\",np.abs(Inew+0.894831469484145))\n",
    "print(\"Número de paneles =\",2**(k-1))"
   ]
  },
  {
   "cell_type": "code",
   "execution_count": null,
   "metadata": {},
   "outputs": [],
   "source": []
  }
 ],
 "metadata": {
  "kernelspec": {
   "display_name": "Python 3 (ipykernel)",
   "language": "python",
   "name": "python3"
  },
  "language_info": {
   "codemirror_mode": {
    "name": "ipython",
    "version": 3
   },
   "file_extension": ".py",
   "mimetype": "text/x-python",
   "name": "python",
   "nbconvert_exporter": "python",
   "pygments_lexer": "ipython3",
   "version": "3.11.7"
  }
 },
 "nbformat": 4,
 "nbformat_minor": 4
}
