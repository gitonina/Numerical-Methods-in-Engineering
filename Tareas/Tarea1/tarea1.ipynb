{
 "cells": [
  {
   "cell_type": "markdown",
   "metadata": {},
   "source": [
    "# Tarea 1\n",
    "## Nombre: Victor Alfaro Pino\n"
   ]
  },
  {
   "cell_type": "markdown",
   "metadata": {},
   "source": [
    "##  P1: Enunciado\n",
    "### Consideremos un sistema de numeros de punto flotante con s=1, base=2, largo de la mantisa m=3, $e_{min}$ = -1 y $e_{max}$=2 , es decir, tales que: $x_{float}$= 1.$d_1$ $d_2$ $\\times$ $2^{e}$. Suponiendo que los numeros estan normalizados, es decir, tienen $d_0$=1, encuentre todos los numeros reales que se pueden representar en este sistema. Dibujelos sobre un eje real x."
   ]
  },
  {
   "cell_type": "markdown",
   "metadata": {},
   "source": [
    "<img src=\"tarea1.jpg\" alt=\"descripción_de_la_imagen\">"
   ]
  },
  {
   "cell_type": "markdown",
   "metadata": {},
   "source": [
    "## P2 \n",
    "### Primero importaremos las librerias necesarias para poder hacer lo que pide el enunciado. Posterior a esto, crearemos funciones auxiliares, como para calcular la serie , el error relativo y la cantidad de terminos necesarios para tener un error relativo $10^{-6}$"
   ]
  },
  {
   "cell_type": "code",
   "execution_count": 20,
   "metadata": {},
   "outputs": [
    {
     "name": "stdout",
     "output_type": "stream",
     "text": [
      "Para x = 0.1, se necesitan 2 términos para un error relativo <= 1e-6\n",
      "Para x = 1.0, se necesitan 4 términos para un error relativo <= 1e-6\n",
      "Para x = 10.0, se necesitan 17 términos para un error relativo <= 1e-6\n"
     ]
    },
    {
     "ename": "OverflowError",
     "evalue": "int too large to convert to float",
     "output_type": "error",
     "traceback": [
      "\u001b[1;31m---------------------------------------------------------------------------\u001b[0m",
      "\u001b[1;31mOverflowError\u001b[0m                             Traceback (most recent call last)",
      "Cell \u001b[1;32mIn[20], line 31\u001b[0m\n\u001b[0;32m     28\u001b[0m x_vals\u001b[38;5;241m=\u001b[39m [\u001b[38;5;241m0.1\u001b[39m, \u001b[38;5;241m1.0\u001b[39m, \u001b[38;5;241m10.0\u001b[39m, \u001b[38;5;241m30.0\u001b[39m, \u001b[38;5;241m100.0\u001b[39m] \u001b[38;5;66;03m#Valores que pide el enunciado\u001b[39;00m\n\u001b[0;32m     30\u001b[0m \u001b[38;5;28;01mfor\u001b[39;00m value \u001b[38;5;129;01min\u001b[39;00m x_vals:\n\u001b[1;32m---> 31\u001b[0m     n \u001b[38;5;241m=\u001b[39m \u001b[43mterminos\u001b[49m\u001b[43m(\u001b[49m\u001b[43mvalue\u001b[49m\u001b[43m)\u001b[49m\n\u001b[0;32m     32\u001b[0m     \u001b[38;5;28mprint\u001b[39m(\u001b[38;5;124mf\u001b[39m\u001b[38;5;124m\"\u001b[39m\u001b[38;5;124mPara x = \u001b[39m\u001b[38;5;132;01m{\u001b[39;00mvalue\u001b[38;5;132;01m}\u001b[39;00m\u001b[38;5;124m, se necesitan \u001b[39m\u001b[38;5;132;01m{\u001b[39;00mn\u001b[38;5;132;01m}\u001b[39;00m\u001b[38;5;124m términos para un error relativo <= 1e-6\u001b[39m\u001b[38;5;124m\"\u001b[39m)\n",
      "Cell \u001b[1;32mIn[20], line 23\u001b[0m, in \u001b[0;36mterminos\u001b[1;34m(x, error)\u001b[0m\n\u001b[0;32m     21\u001b[0m n \u001b[38;5;241m=\u001b[39m \u001b[38;5;241m1\u001b[39m \u001b[38;5;66;03m#Cantidad inicial de terminos que se necesitarian a priori para tener un error relativo\u001b[39;00m\n\u001b[0;32m     22\u001b[0m \u001b[38;5;28;01mwhile\u001b[39;00m \u001b[38;5;28;01mTrue\u001b[39;00m:\n\u001b[1;32m---> 23\u001b[0m     aprox \u001b[38;5;241m=\u001b[39m \u001b[43mserie\u001b[49m\u001b[43m(\u001b[49m\u001b[43mx\u001b[49m\u001b[43m,\u001b[49m\u001b[43m \u001b[49m\u001b[43mn\u001b[49m\u001b[43m)\u001b[49m\n\u001b[0;32m     24\u001b[0m     \u001b[38;5;28;01mif\u001b[39;00m error_relativo(aprox,real) \u001b[38;5;241m<\u001b[39m\u001b[38;5;241m=\u001b[39m error:\n\u001b[0;32m     25\u001b[0m         \u001b[38;5;28;01mreturn\u001b[39;00m n\n",
      "Cell \u001b[1;32mIn[20], line 9\u001b[0m, in \u001b[0;36mserie\u001b[1;34m(x, n)\u001b[0m\n\u001b[0;32m      7\u001b[0m valor \u001b[38;5;241m=\u001b[39m \u001b[38;5;241m0\u001b[39m\n\u001b[0;32m      8\u001b[0m \u001b[38;5;28;01mfor\u001b[39;00m i \u001b[38;5;129;01min\u001b[39;00m \u001b[38;5;28mrange\u001b[39m(n):\n\u001b[1;32m----> 9\u001b[0m     term \u001b[38;5;241m=\u001b[39m \u001b[43m(\u001b[49m\u001b[43m(\u001b[49m\u001b[38;5;241;43m-\u001b[39;49m\u001b[38;5;241;43m1\u001b[39;49m\u001b[43m)\u001b[49m\u001b[38;5;241;43m*\u001b[39;49m\u001b[38;5;241;43m*\u001b[39;49m\u001b[43mi\u001b[49m\u001b[43m \u001b[49m\u001b[38;5;241;43m*\u001b[39;49m\u001b[43m \u001b[49m\u001b[43mx\u001b[49m\u001b[38;5;241;43m*\u001b[39;49m\u001b[38;5;241;43m*\u001b[39;49m\u001b[43m(\u001b[49m\u001b[38;5;241;43m2\u001b[39;49m\u001b[38;5;241;43m*\u001b[39;49m\u001b[43mi\u001b[49m\u001b[43m \u001b[49m\u001b[38;5;241;43m+\u001b[39;49m\u001b[43m \u001b[49m\u001b[38;5;241;43m1\u001b[39;49m\u001b[43m)\u001b[49m\u001b[43m)\u001b[49m\u001b[43m \u001b[49m\u001b[38;5;241;43m/\u001b[39;49m\u001b[43m \u001b[49m\u001b[43m(\u001b[49m\u001b[43m(\u001b[49m\u001b[38;5;241;43m2\u001b[39;49m\u001b[38;5;241;43m*\u001b[39;49m\u001b[43mi\u001b[49m\u001b[43m \u001b[49m\u001b[38;5;241;43m+\u001b[39;49m\u001b[43m \u001b[49m\u001b[38;5;241;43m1\u001b[39;49m\u001b[43m)\u001b[49m\u001b[43m \u001b[49m\u001b[38;5;241;43m*\u001b[39;49m\u001b[43m \u001b[49m\u001b[43mmath\u001b[49m\u001b[38;5;241;43m.\u001b[39;49m\u001b[43mfactorial\u001b[49m\u001b[43m(\u001b[49m\u001b[38;5;241;43m2\u001b[39;49m\u001b[38;5;241;43m*\u001b[39;49m\u001b[43mi\u001b[49m\u001b[43m \u001b[49m\u001b[38;5;241;43m+\u001b[39;49m\u001b[43m \u001b[49m\u001b[38;5;241;43m1\u001b[39;49m\u001b[43m)\u001b[49m\u001b[43m)\u001b[49m\n\u001b[0;32m     10\u001b[0m     valor\u001b[38;5;241m+\u001b[39m\u001b[38;5;241m=\u001b[39m term\n\u001b[0;32m     11\u001b[0m \u001b[38;5;28;01mreturn\u001b[39;00m valor\n",
      "\u001b[1;31mOverflowError\u001b[0m: int too large to convert to float"
     ]
    }
   ],
   "source": [
    "import math\n",
    "import numpy as np\n",
    "from scipy import special  #Esta libreria es la que contiene la función s_i que se usará para poder calcular el error relativo.\n",
    "\n",
    "#Funcion para calcular la serie infinita\n",
    "def serie(x, n): #n es el numero de terminos de la serie que se usarán.\n",
    "    valor = 0\n",
    "    for i in range(n):\n",
    "        term = ((-1)**i * x**(2*i + 1)) / ((2*i + 1) * math.factorial(2*i + 1))\n",
    "        valor+= term\n",
    "    return valor\n",
    "\n",
    "\n",
    "#Función que calcula el error relativo\n",
    "def error_relativo(aprox, real):\n",
    "    return abs(aprox-real) \n",
    "\n",
    "#Calcula la cantidad de terminos necesarios para tener un error relativo de 10^-6\n",
    "def terminos(x, error=1e-6):\n",
    "    real = special.sici(x)[0]  #Valor proporcionado por la libreria scipy evaluado en x\n",
    "    n = 1 #Cantidad inicial de terminos que se necesitarian a priori para tener un error relativo\n",
    "    while True:\n",
    "        aprox = serie(x, n)\n",
    "        if error_relativo(aprox,real) <= error:\n",
    "            return n\n",
    "        n += 1\n",
    "\n",
    "x_vals= [0.1, 1.0, 10.0, 30.0, 100.0] #Valores que pide el enunciado\n",
    "\n",
    "for value in x_vals:\n",
    "    n = terminos(value)\n",
    "    print(f\"Para x = {value}, se necesitan {n} términos para un error relativo <= 1e-6\")\n"
   ]
  },
  {
   "cell_type": "markdown",
   "metadata": {},
   "source": [
    "### El programa anterior funciona solo para los primeros 3 valores de x, pero para x=30.0, el programa lanza \"int too large to convert to float\", esto ocurre porque la función math.factorial cuando se usan numeros grandes, el resultado ya no se puede representar como un float, en cambio si se usa 30, para un entero en python no hay muchos problemas siempre el valor resultante siga estando en el rango de los enteros. Por otro lado si se cambia el valor a 30 y a 100, en el valor 100 se quedará pegado indefinidamente. Pero si se cambia la libreria math por una que controle las precisiones como por ejemplo mpmath, se pueden tener los resultados: \n",
    " "
   ]
  },
  {
   "cell_type": "markdown",
   "metadata": {},
   "source": [
    "## Implementación con libreria mpmath:"
   ]
  },
  {
   "cell_type": "code",
   "execution_count": 18,
   "metadata": {},
   "outputs": [
    {
     "name": "stdout",
     "output_type": "stream",
     "text": [
      "Para x = 0.1, se necesitan 2 términos para un error relativo <= 1e-6\n",
      "Para x = 1.0, se necesitan 4 términos para un error relativo <= 1e-6\n",
      "Para x = 10.0, se necesitan 17 términos para un error relativo <= 1e-6\n",
      "Para x = 30, se necesitan 44 términos para un error relativo <= 1e-6\n",
      "Para x = 100.0, se necesitan 138 términos para un error relativo <= 1e-6\n"
     ]
    }
   ],
   "source": [
    "import numpy as np\n",
    "from scipy import special\n",
    "from mpmath import mp\n",
    "\n",
    "mp.dps = 50  # Precisión\n",
    "\n",
    "# Funcion para calcular la serie infinita\n",
    "def serie(x, n):\n",
    "    valor = mp.mpf(0)  \n",
    "    for i in range(n):\n",
    "        term = ((-1)**i * mp.power(x, 2*i + 1)) / ((2*i + 1) * mp.factorial(2*i + 1))\n",
    "        valor += term\n",
    "    return valor\n",
    "\n",
    "# Función que calcula el error relativo\n",
    "def error_relativo(aprox, real):\n",
    "    return abs(aprox - real)\n",
    "\n",
    "# Calcula la cantidad de terminos necesarios para tener un error relativo de 10^-6\n",
    "def terminos(x, error=1e-6):\n",
    "    real = special.sici(x)[0]\n",
    "    n = 1\n",
    "    while True:\n",
    "        aprox = serie(x, n)\n",
    "        if error_relativo(aprox, real) <= error:\n",
    "            return n\n",
    "        n += 1\n",
    "\n",
    "x_vals = [0.1, 1.0, 10.0, 30, 100.0]\n",
    "\n",
    "for value in x_vals:\n",
    "    n = terminos(value)\n",
    "    print(f\"Para x = {value}, se necesitan {n} términos para un error relativo <= 1e-6\")\n"
   ]
  },
  {
   "cell_type": "markdown",
   "metadata": {},
   "source": [
    "### En cuanto a los resultados, se puede apreciar que a mayor valor de x, mayor es la cantidad de terminos que se necesitan para tener un error relativo menor o igual a $10^{-6}$, esto porque  teniendo en cuenta que el valor exacto se calcula como: \n",
    "$$\n",
    " \\int_{0}^{x} sin(t)/t \\, dt\n",
    "$$\n",
    "### Entonces a mayor valor de x, el valor real aumenta, y por lo tanto para mantenerse cerca del valor, la serie debe tomar mas valores. Esto tambien se cumple si es que el error relativo se calcula como |real-aprox| /real o |real-aprox|/aprox, el cual tambien es una definición que algunos libros ocupan.\n"
   ]
  },
  {
   "cell_type": "markdown",
   "metadata": {},
   "source": [
    "# P3"
   ]
  }
 ],
 "metadata": {
  "kernelspec": {
   "display_name": "numericos-env",
   "language": "python",
   "name": "python3"
  },
  "language_info": {
   "codemirror_mode": {
    "name": "ipython",
    "version": 3
   },
   "file_extension": ".py",
   "mimetype": "text/x-python",
   "name": "python",
   "nbconvert_exporter": "python",
   "pygments_lexer": "ipython3",
   "version": "3.11.5"
  }
 },
 "nbformat": 4,
 "nbformat_minor": 2
}
