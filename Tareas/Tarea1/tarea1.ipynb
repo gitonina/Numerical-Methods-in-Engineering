{
 "cells": [
  {
   "cell_type": "markdown",
   "metadata": {},
   "source": [
    "# Tarea 1\n",
    "## Nombre: Victor Alfaro Pino\n"
   ]
  },
  {
   "cell_type": "markdown",
   "metadata": {},
   "source": [
    "##  P1: Enunciado\n",
    "### Consideremos un sistema de numeros de punto flotante con s=1, base=2, largo de la mantisa m=3, $e_{min}$ = -1 y $e_{max}$=2 , es decir, tales que: $x_{float}$= 1.$d_1$ $d_2$ $\\times$ $2^{e}$. Suponiendo que los numeros estan normalizados, es decir, tienen $d_0$=1, encuentre todos los numeros reales que se pueden representar en este sistema. Dibujelos sobre un eje real x."
   ]
  },
  {
   "cell_type": "markdown",
   "metadata": {},
   "source": [
    "<img src=\"tarea1.jpg\" alt=\"descripción_de_la_imagen\">"
   ]
  }
 ],
 "metadata": {
  "kernelspec": {
   "display_name": "numericos-env",
   "language": "python",
   "name": "python3"
  },
  "language_info": {
   "codemirror_mode": {
    "name": "ipython",
    "version": 3
   },
   "file_extension": ".py",
   "mimetype": "text/x-python",
   "name": "python",
   "nbconvert_exporter": "python",
   "pygments_lexer": "ipython3",
   "version": "3.11.5"
  }
 },
 "nbformat": 4,
 "nbformat_minor": 2
}
